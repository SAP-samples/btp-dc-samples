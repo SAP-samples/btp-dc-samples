{
 "cells": [
  {
   "cell_type": "markdown",
   "metadata": {},
   "source": [
    "### Connect from Environment Variables\n",
    "\n",
    "Read your \"VCAP_SERVICES\" value from your `.env` file of your workspace\n",
    "\n",
    "VCAP_SERVICES key-value entry is created if you \"bind\" your aicore service from Cloud Foundry tools\n",
    "\n",
    "Example entry: ```VCAP_SERVICES={\"aicore\":[{\"name\":\"default_aicore\",\"instance_name\":  ...```"
   ]
  },
  {
   "cell_type": "markdown",
   "metadata": {},
   "source": [
    "The fastest way to connect your AICore client.  Connect with AICoreV2Client_from_env()"
   ]
  },
  {
   "cell_type": "code",
   "execution_count": 6,
   "metadata": {},
   "outputs": [
    {
     "name": "stdout",
     "output_type": "stream",
     "text": [
      "Resources: [{Scenario id: foundation-models, Scenario description: AI Core Global Scenario for LLM Access}], Count: 1\n"
     ]
    }
   ],
   "source": [
    "from ai_core_sdk.ai_core_v2_client import AICoreV2Client\n",
    "\n",
    "ai_core_client = AICoreV2Client.from_env()\n",
    "\n",
    "# Optional: print connection details\n",
    "print(ai_core_client.scenario.query_llm_scenarios())"
   ]
  },
  {
   "cell_type": "markdown",
   "metadata": {},
   "source": [
    "The manual way to connect your AICore client. Use Python package cfenv to read your \"VCAP_SERVICES\" value your `.env` of your workspace."
   ]
  },
  {
   "cell_type": "code",
   "execution_count": 5,
   "metadata": {},
   "outputs": [
    {
     "name": "stdout",
     "output_type": "stream",
     "text": [
      "Resources: [{Scenario id: foundation-models, Scenario description: AI Core Global Scenario for LLM Access}], Count: 1\n"
     ]
    }
   ],
   "source": [
    "import os\n",
    "from cfenv import AppEnv\n",
    "from ai_core_sdk.ai_core_v2_client import AICoreV2Client\n",
    "\n",
    "env = AppEnv()\n",
    "\n",
    "aic_service = 'aicore'\n",
    "aicenv = env.get_service(label=aic_service)\n",
    "\n",
    "# Creating an AI API client instance\n",
    "ai_core_client = AICoreV2Client(\n",
    "    base_url = aicenv.credentials['serviceurls']['AI_API_URL'] + \"/v2\",\n",
    "    auth_url=  aicenv.credentials['url'] + \"/oauth/token\",\n",
    "    client_id = aicenv.credentials['clientid'],\n",
    "    client_secret = aicenv.credentials['clientsecret']\n",
    ")\n",
    "\n",
    "# Optional: Print client details\n",
    "print(ai_core_client.scenario.query(resource_group = 'default'))\n"
   ]
  },
  {
   "cell_type": "code",
   "execution_count": 5,
   "metadata": {},
   "outputs": [
    {
     "name": "stdout",
     "output_type": "stream",
     "text": [
      "appname\n",
      "clientid\n",
      "clientsecret\n",
      "identityzone\n",
      "identityzoneid\n",
      "service_key_name\n",
      "serviceurls\n",
      "url\n"
     ]
    }
   ],
   "source": [
    "# Optional: Print your environment\n",
    "\n",
    "print(*aicenv.credentials, sep = \"\\n\")\n",
    "\n",
    "#print(aicenv.env)  \n",
    "#print(aicenv.name)\n",
    "\n",
    "#print(aicenv.credentials['appname'])\n",
    "#print(aicenv.credentials['clientid'])\n",
    "#print(aicenv.credentials['clientsecret'])\n",
    "#print(aicenv.credentials['serviceurls'])\n",
    "#print(aicenv.credentials['url'] + \"/oauth/token\")\n",
    "#print(aicenv.credentials['serviceurls']['AI_API_URL'] + \"/v2\")"
   ]
  },
  {
   "cell_type": "markdown",
   "metadata": {},
   "source": [
    "Optional: Load from manually created key value pairs in your local `.env` file in your workspace root directory."
   ]
  },
  {
   "cell_type": "code",
   "execution_count": 3,
   "metadata": {},
   "outputs": [
    {
     "name": "stdout",
     "output_type": "stream",
     "text": [
      "default\n",
      "Resources: [{Scenario id: foundation-models, Scenario description: AI Core Global Scenario for LLM Access}], Count: 1\n"
     ]
    }
   ],
   "source": [
    "import os\n",
    "from dotenv import load_dotenv\n",
    "from ai_core_sdk.ai_core_v2_client import AICoreV2Client\n",
    "\n",
    "load_dotenv()\n",
    "\n",
    "AICORE_BASE_URL  = os.getenv('AICORE_BASE_URL')\n",
    "AICORE_AUTH_URL = os.getenv('AICORE_AUTH_URL')\n",
    "AICORE_CLIENT_ID = os.getenv('AICORE_CLIENT_ID')\n",
    "AICORE_CLIENT_SECRET  = os.getenv('AICORE_CLIENT_SECRET')\n",
    "AICORE_RESOURCE_GROUP  = os.getenv('AICORE_RESOURCE_GROUP')\n",
    "\n",
    "#print(AICORE_BASE_URL)   # https://api.ai.prod.your_region.ml.hana.ondemand.com/v2\n",
    "#print(AICORE_AUTH_URL)   # https://yourdomain.authentication.yourregion.hana.ondemand.com/oauth/token\n",
    "#print(AICORE_CLIENT_ID)\n",
    "#print(AICORE_CLIENT_SECRET)\n",
    "print(AICORE_RESOURCE_GROUP)\n",
    "\n",
    "ai_core_client = AICoreV2Client(\n",
    "    base_url = AICORE_BASE_URL,\n",
    "    auth_url=  AICORE_AUTH_URL,\n",
    "    client_id = AICORE_CLIENT_ID,\n",
    "    client_secret = AICORE_CLIENT_SECRET,\n",
    "    resource_group=AICORE_RESOURCE_GROUP\n",
    ")\n",
    "\n",
    "print(ai_core_client.scenario.query())"
   ]
  }
 ],
 "metadata": {
  "kernelspec": {
   "display_name": ".venv",
   "language": "python",
   "name": "python3"
  },
  "language_info": {
   "codemirror_mode": {
    "name": "ipython",
    "version": 3
   },
   "file_extension": ".py",
   "mimetype": "text/x-python",
   "name": "python",
   "nbconvert_exporter": "python",
   "pygments_lexer": "ipython3",
   "version": "3.11.2"
  }
 },
 "nbformat": 4,
 "nbformat_minor": 2
}
