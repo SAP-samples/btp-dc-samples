{
 "cells": [
  {
   "cell_type": "markdown",
   "metadata": {},
   "source": [
    "#### Chat Completions\n",
    "\n",
    "<small>\n",
    "Create chat completions for chat messages with the OpenAI models.\n",
    "\n",
    "| Request Parameter | Type | Description |\n",
    "| --------          | ------- | ------ |\n",
    "| model             | string  | The modelName used to create the deployment.\n",
    "| prompt            | object|string  | This field is used to send a string text prompts to the model.\n",
    "| maximum_tokens    | integer  | The maximum number of tokens to be generated. \n",
    "| minimum_tokens    | integer | Generate at least this number of tokens before an end-of-text token is generated.\n",
    "| temperature       | number | Values in range 0.0 to 1.0. A higher temperature leads to more leading to more randomness and the risk to be offtopic.\n",
    "\n",
    "</small>"
   ]
  },
  {
   "cell_type": "code",
   "execution_count": 2,
   "metadata": {},
   "outputs": [
    {
     "name": "stdout",
     "output_type": "stream",
     "text": [
      "The Answer to the Ultimate Question of Life, the Universe, and Everything is 42.\n"
     ]
    }
   ],
   "source": [
    "from gen_ai_hub.proxy.native.openai import chat\n",
    "\n",
    "messages = [\n",
    "    {\"role\": \"system\", \"content\": \"You are a helpful assistant for science fiction books\"},\n",
    "    {\"role\": \"user\", \"content\": \"Complete the sentence: The Answer to the Ultimate Question of Life, the Universe, and Everything is\"}\n",
    "]\n",
    "\n",
    "_model='tiiuae--falcon-40b-instruct'\n",
    "\n",
    "kwargs = dict(model_name=_model, messages=messages)\n",
    "response = chat.completions.create(**kwargs)\n",
    "\n",
    "print(response.choices[0].message.content)\n"
   ]
  },
  {
   "cell_type": "code",
   "execution_count": 6,
   "metadata": {},
   "outputs": [
    {
     "name": "stdout",
     "output_type": "stream",
     "text": [
      "42\n"
     ]
    }
   ],
   "source": [
    "from gen_ai_hub.proxy.native.openai import chat\n",
    "\n",
    "messages = [\n",
    "    {\"role\": \"system\", \"content\": \"You are a helpful assistant for science fiction books\"},\n",
    "    {\"role\": \"user\", \"content\": \"Complete the sentence: The Answer to the Ultimate Question of Life, the Universe, and Everything is\"}\n",
    "]\n",
    "\n",
    "_model='tiiuae--falcon-40b-instruct'\n",
    "\n",
    "kwargs = dict(model_name=_model, messages=messages, max_tokens=7)\n",
    "response = chat.completions.create(**kwargs)\n",
    "\n",
    "print(response.choices[0].message.content)\n",
    "\n"
   ]
  },
  {
   "cell_type": "code",
   "execution_count": 12,
   "metadata": {},
   "outputs": [
    {
     "name": "stdout",
     "output_type": "stream",
     "text": [
      "42.\n"
     ]
    }
   ],
   "source": [
    "from gen_ai_hub.proxy.native.openai import OpenAI\n",
    "\n",
    "openai= OpenAI()\n",
    "\n",
    "messages = [\n",
    "    {\"role\": \"system\", \"content\": \"You are a helpful assistant for science fiction books\"},\n",
    "    {\"role\": \"user\", \"content\": \"Complete the sentence: The Answer to the Ultimate Question of Life, the Universe, and Everything is\"}\n",
    "]\n",
    "\n",
    "_model='gpt-35-turbo'\n",
    "\n",
    "kwargs = dict(model_name=_model, messages=messages, max_tokens=35)\n",
    "\n",
    "response = openai.chat.completions.create(**kwargs)\n",
    "\n",
    "print(response.choices[0].message.content)\n"
   ]
  },
  {
   "cell_type": "markdown",
   "metadata": {},
   "source": [
    "#### Embeddings\n",
    "\n",
    "Use a vector representation of a given input that can be easily consumed by machine learning models and algorithms"
   ]
  },
  {
   "cell_type": "code",
   "execution_count": 13,
   "metadata": {},
   "outputs": [
    {
     "name": "stdout",
     "output_type": "stream",
     "text": [
      "WGtXvMICODvRDbI8t3uhvI74sDvr0dS7beGruzkJN7y5fLK7TmYCvce5vjtbOtY8QFwZPNqswLtBDXu8WgezvMDonTy5Yyk8+cK0PDmkAb1OZgK9D2wsPO/wArymPQS9Fr+OvAtRATzBgHY7LIGPvEgUsToXV+e7HV0MPP6SRLwpY/I6TxfkvPNwY7wbwbC8prtCvJRjC72aTbU7MVGfu1LNWbqdHLS7bBM+vIvdBbsdqbi8299jPBklVTs8vyy9vxqwvMGA9jvsOg095zTou5f89Lw/pzS62JImvDg7yTy4MIa8j8aeO5xnTzzpt7q8DVISPJcZgbuf0Zi8AC+gPOzr7rraEXa8o1F5POc0aLuJjda61pEVPKY9BD2QEks8+8PFvIpbRDvXxLg8+neZvN1iNjyKDxi86OnMPJRjC7wXcPA8pqK5vJASS7xf8Es9YFmEPF+knzpgI++8xJ4TPeF9YbvCZ228KkppPA9TozwjxfQ8H8NSPEoVQrypDAO8kq4mPHLKRD3tVKc7BOWVOH/ULbzCTuQ7+vXXu3GXIbvjtAc8RhMgPIgOB7tnKiU8sA82O+EYLLzQWM06PL8sPe4iFT2h0im9aHZRPCLe/TuRe4O4jytUPNEmu7vlM9e7o1H5PDE4lrwyBoS7vLBmvH1RWzytJy47r9ySOpYVfrzvCYy7U08bPPOJ7Dz8kbO7dLLMO+u4SzyK9o68Gto5PR1dDDzlM1c8cX4YPEQrmLyovNM8HUSDO7IQx7tahXG8spIIvE1/CzxHX8w6KuWzO1MA/bpRToq8+ncZPCOs67udmnI8TUn2vNouAj0vGvk8bK6IPGHxXDzglmq8BMwMPGBZBLxVtWE8QttovPx4qrwFGDk9ZFumPKhXnrvwPC88qLxTPP1GGLyiuaC8haQ9utOpjbz42708QahFPMg7gDuoVx48PluIPDkJN70Onr68XKMOPMLprrsdXQw9VASAPGR0r7zJ01g82qxAOmAjb7xWHpo88lbJO+fPsjqwqgA9VZxYvC6CIDsn/Su/zYnOvGhdyDzlziG9Si5LPCNHNjzxb1I8BDFCuZ5oYLz6kCI8xutQPG1farzZeR08XCFNvKxZwLuZf8c5vxqwO3oEnrxPmaU6BX1uPFpsaLz4dgg9Gto5vDcIJrxuFE+8/97wO4XwaTxSga28PlsIvTIGhLy5Y6m8H8PSudYPVLjOPrO8lZYuPXqCXDzQ2o4822ElPJ82zjsTbk487qBTvNMOQzv2jgA9i92FNZFFbry/GjA8ODvJu6ZWjTzBgPa79ybZvFtTXzuqWC87mZjQuxHS8jsfXh08QttoPAV97jyDcRq8qyYdPHWZQ7yZGhK8ngMru3UbBbyJjdY7dYC6uiOs67tabGi7bMeRvL5lSzmN3pa7isB5PAX/Lzx905y8spKIvMqhxjsEMUK8cePNPJkakryvQcg8b+K8PCSTYrwqMWC8/atNvdNzeDwQIZE8+Ns9vPiPEbz02Ru8l5c/PTUHlTwvUA48Z4/aO1NPm7yy9728+0UHvIFwiTx8Ba+63EicPC8BcDxBDXs7IBOCupRKgrxhpbA8WZ56O27Iojx1mcM6vxqwvMnT2Dudgek8QUMQvFNPm7lsePO8AK1eO3/UrTyz3jS8f4gBvfKi9TyaAYm7sHTrO385Y7xCj7w8F3BwPBNuzrxL4y88KZmHPEdGQzxysTu8I/uJvPNw47nzcGO6W+6pu21GYbtfixY8F/IxO08XZDvVKN27wOidPJ+4j7x6Hac7qD4VvN4wpLxDwt+5K7Ohu4z3n7wKTf67TX+LudirL7xabGi8ZnVAPG36NLxevSi7OQm3vEEqh7wSOys8eU+5O3IWcbslSMc8ODvJuvKi9bzeSa28cmWPPEJ2szznz7K8pYgfPNdfA7xg10K8+8PFOi+1wzyHjMW8fTjSO9vf4ztNYn+8WTlFPAroSLxt4as8OtckPSAsC7tskfy6AxcoPMgFa7x5NjA8i90FPCPiADvh/6I7O4yJNy9QDj3i5hk7SJJvu9ougrsNUpI78tiKPGyR/Dxiv0q822GlOPI9wDs4vQo896gavE/+2rxBDXu6sSlQPMTqP7pWBZG85xtfvD5bCLwJtaU7j9+nvHSyTLvruEu8sHTrO6HSqTwxtlQ7vxqwvIwQKTzDNdu7wZl/u1gfKz0vAfC80w5DPXPkXjtGE6C85oOGvLyw5rwn/as8vZddPN980Lucs3s8IpLRu2eoYzy3Yhg8wukuvTFRH7z3Jtk77IY5PPK7fjzp0MM85RpOvMSekzzntqk7bUbhPDafbTyoV547W1NfPLVEezwr/807SUfUu2ONODzPJSo9wk7kO/Q+Ub1BDfs8YloVvPEKHTxGLCm86IQXvAtRgTu9GR868YjbPJxORjzCTuQ8OaQBPeW1GLzYqy88iA6HPHUbhTyMXNU7Go6NPFs6VrySE9y84X3hO6KglzyEWJG81g9UvKdwp7qz3rS7DVKSPLhJjzxGeFW8zle8OjFRnzw8v6w8ZY5JPOO0h7wya7k8O1b0O4elzrlAdaK8Ck3+vBa/jjtSzdm7Af2NOyzmxLxSaKQ8kF73O8LprrxyZY+8H16du9yt0TwRCIi7ICyLvFYFkTw9pqM6r0FIPCzmxLvCAjg8Nbj2PA+42Dx5Tzm8ZveBOyzmxDv6d5m8lEqCPO9VODzgluq8SJLvuZyze7uNQ8w7k/rSvHN/qbu1YYc8dE0XPHN/KTtP/lo8o1F5O8HPFD0ZJVU9t+DWPI3Fjbyp7/a7Fwu7vGOmwbvoAta8Or6bvELbaLyh0qm8/cTWu2ByDbz3qJq74X3hu8XRNrXTqY07p3AnuzbVgrxgI+87wbYLvVGatrxz5N47nmjgO4Huxzro6Uy8ydNYPDJrOTwqzKo82XmdO5f89Ly4MAY8yjyRPDCDsTvC6a481ShdvDW4djx6gly7RhOgugCt3jyc6RC8BRg5PIAHUTvO8oY6ZSmUuoPWzzxr+SO8ckwGvbljqTwMhCQ9QvRxvKK5ILxuLVi8nZpyvPiPEbzWD9Q8xWyBvPj0RrxPF+Q7iA6HvJs0LDzPit+73C8Tug+4WDx2s9286VIFPDgiQLwJtSW8yjyRvIPvWLzN1Xo82vjsu+iEl7yFpD28VGm1u6q95Lye6qE8EDoaPIKjLL2mVo07uq/VO8Tqv7zCnYK8wAGnvBsN3bxz5N68oJ+GutTcsLxGLKm722GlvNT1ubtX7Ic8Q8JfPDJrubx/Umw75OcqPA6evjsLtjY8jPefPNLbn7tNmBS8ZadSPH5r9TsTVUW8wmftu01Jdjyp1m28zKJXOxjZqDyqvWQ8Bf+vuzUHFbyjOPC7WTlFPGGlsDvMViu8EqDgO2nfCby+TMI7eByWuxFtPbwNa5s8RnjVvGv5o7s2n+25MbbUu3oEHjzH0kc8K5oYvIvdBbvMPaI8g4qjvGONOD1/iIG8I8X0OpRjC71PmaU7XLwXO1ObRzwl/Jq8OwpIvBG56Ttiv8q75xtfPEer+LsFGLk6CQHSvAAvILxAXJm7Gw3dO0ninjyMXNW7+tzOOrHEGrwdXYy8LzeFu5RjC73ntqm8nmjguhraOTxL/Lg8X6SfPLQRWLyxQlm8u31DPASWd7pUHQm8fLmCPAsbbDsK6Ei9+pAiPPA8r7s8JOK7QMFOurqvVTyqPyY9qj+mPKKgFzykBt68CjT1O5s0LDw4O8m7tJOZuiOs6zrXeAw8K7MhPMuIvbuHQBk95RpOPMDoHTz3DdA7/pJEPX040jsiLRw8XKOOPE1J9jsXpgU8NoZkuykXxrx8Hji8XCHNO6pYLzuUSgI9UZq2Ox715Drntqk8/vd5PH5r9bzBz5S88COmvJ5o4LyeaOC7mZhQvX3sJb2h0qm8xWyBvDuMiTzhfeG8ONYTPVoHMzwOIIC83WI2vEQSDzws5kQ9KZkHvDGdSzxx/NY8Xr2ovBNuzryvKD88l+NrPJmY0LwvUA49nAIaO8dUCTyQEks53Xu/vLYS6TuOrAS8gdW+vF69KLrtbbC547SHu69BSLyy9z08sA+2u/hZ/DvO8ga9kF53u0QSD72oV568+Q7hvLt9QzymPYS7fgZAPOc0aLkyHw27plYNPDDPXbxb1aC7rvUbu8JOZDvZxUk8rlrRvFDMSLzy2Io8qyadOlE1Ab2Ljme6TxfkvGwTvjzuh0q7xgRau+lShby4SQ89vmXLPNLbnzxMsR28scQavbzJ77yAB9E7WmxoPGyR/DoqSum78rt+u8688brMVqu8SrAMvEf6lrtSaCQ9XtaxvPj0xrsTbk68TWL/O7ljqTx7N8E8TWL/u+zrbryPxp48lX2lvBjZqDxnqGM8g9ZPvKz0CrydmvI74K/zO1me+ryEPwg9qdZtvA9TI7zmTXE8ZY5JPLhJD7tF+YW896iau4AH0TvSQFW8AJTVO6zbgbyp1u281FpvPJ/RmLtNYv86zdX6PN5JrbzPJaq7bHhzvBraObzgr3M7aF3IvGcqpbupcTi7WAYiPKNR+bwj4oC8cmUPPJIsZbz/3vA7+0WHu8o8ETx7N8G4HcLBuxIiojpUHYk8plYNux7cWzrgSr68bHhzO0KPvLwwg7G7sA82vGVCnbyu9Zs7Lxp5OiNgP7zjGb27DJ2tOhdwcL2EWJG7H8NSPDIfDTzgSj492XkdPI6sBDttX+o8wmdtO2badTyG1+C8PL+sPAZLXDt5m2U8WrsGvBsN3TsyBgS9y280vFgGojsXpgW9L5w6PLvi+DxgI2+8YL45vAcAwbvTJ0w5jytUPBIioru/GrA81pGVvFTO6jsiFJM8qqTbPFKBrbw7VnS8U7RQPF8J1TznNOg6nZpyvANj1Lyl1Es8yrrPuwLkBDpVnNg8UzaSvKCfBjwXpoU8HI8ePEQSj7yKwPk7lEoCveCvczpCj7w8b30HPNfEODsAlNW8kUXuPIuncLwiktG7eIFLvDzYtTo3CCa769HUPO9VuDwAlFW95TNXPNr47Lsl/Jq70Q0yPBKgYLsrmhi8ogXNuxMJmbtd77o6vMlvu0NEobxOsi67jcWNPErJlbwNaxs7PQtZPtMOw7yw9qw4WVLOPANj1Lydgem5B5uLuxx2lbvqnjG7vP+EPOyGObwMAuO7dE2XvK71G7sj4oA8chZxvFO0ULwOOYm8MIOxu7YSaTs17gu8o24FvM6j6LvnG9+8K7MhPNvfY7wpY/I46p6xPA1SkjzOVzw8U0+bvOIyxrzH0ke7RhOgPKtyybyWFf47BktcPJ/RmLwzOac8jcWNPC9QDj0dJ3c7acaAvO9VuLzv8AK8NdH/PFM2krvi5hm80FhNvL0ZHzzpUoU69NkbO6xZQDtjKAM96p6xPNirr7pNmBS86IQXPHIWcTzdYja8KuWzOwpN/jt/Umy86oWoPOZm+rvb3+M7YyiDvGcqpbs4O8k8/97wvBbYl7u1xjy8g3GavNT1Obr6d5m8gleAO4S9Rj0BFpc8kq4mPPLxEz2QlIy8YNdCvAAvoLz08qS8dLLMu9lgFL2+ABY9JUhHvOUzVzzEnpM71FpvPApqirzMPaI7YYynOzDPXTypJYw82d5Su6nWbTvvVTi8Ebnpu6mKQboYwJ88N1RSPDNSMDtNSfY7LGiGPCjkorsF/6+74DG1PFvuqbxSaCQ8HvXkvPfBoztbU1+8/xQGvH/tNjy4lbs7+EDzuu6Hyjx5m2W7RiypvJ/RmLxTAP25HHaVPE8X5Dtlp1K762yfvOAxtTt1GwW7PHMAvFlSzjwvtcO87ofKPD7APTzhfeG7plYNvBUKKjyoo0q8NobkvBdw8DxrRdC8Jxa1PMLprjwfRZQ6EOt7vAV97rpe1rE8CoMTPHPkXrrfF5u69FfavNHBhbtUzmq8TX+LvCNHNrwvGvk7zXDFvGgRHL1MsZ06hlkivB1dDL0fXp27yjyRPLxkOry3x826fmt1vLD2LL6p1m28X4uWuzVsyrwSoGA7CjR1O6ZWDT3f/hE8PCTivFps6Dz1wJI7vzM5OvbarLwxOBa8bJH8O+F94bwyazm8T/7aOxzbyjpF+QW7QtvoPGNBDL23Yhi7UwB9vENEITyWZJy8qr1kvMABJ7y130U7bi1Yu4dAmbzDNdu7193BPKijSryLKTK8N23bO9j3W7ro6Uw8wRtBvFO0UDqTfJQ6tXoQPPhZ/LuM9585sPYsvMBN07lvlpA82vjsu9lglLt/Umw8PnSRvNwvE73v8AI8NQeVu8BN0zwr/008dmexO/hZfLtrXtm7jPefvIrA+TvJh6y89aeJPMLprrwjrOu7+I+RvDo8WjvDtxw82vjsvJfjazq3Ypi6vRkfu3ZOqLtNSXa8YL45vMw9Ij1L/Li7nLN7PCST4juykgi808KWu/Q+0TzmZnq7FQoqPJ2BaTwmLz67nzbOO5ZLEzz1JUi8q4vSu7/OAz3nG9+8+ncZPF2KBbzHbRI8I/sJPDbVgrsu51W8KuWzPLiVuzvg5Yi7LmkXPE6yLrwYPt470cEFPdDaDjwOOYm8VZxYPPRX2jzTJ0y8I/uJvE6yLrw5Cbe5QttoPK9BSLzH0sc8ZhALvOc0aLwKTf46g9ZPPCX8mj0Kaoo6Lxr5vBx2FbxzmLI6qQwDvaM48L0w6Oa8gdW+POc06DsiktE64OUIPQX/L7zDHFI8DAJjugSWdzzPil+8ZhALveZmerxzmLI64kvPu6ShKLz/eTu8CbUlPO/wAr2rDRQ9r9wSvfaOAD1ML1w7TX8LvFE1Abxgvrk81aqevJkzGzylbxY8/8XnvJkzGz1EkM28VOfzO1TOarsZJdW7IBOCPJD5Qbtiv8q8R/qWPPtFB7wnFrW7bi3YO2/ivLz6dxm7tKyiO2krtrsGMtO7ZnVAPBYkRLxyysS8wTRKvcigtbsjR7a8sKqAvNDzFzyxKdA7kXuDvAAvoLuZM5s7DWsbPOIyxrvi5pm8IV+uvJ7qoTy+54w6ryi/vHvSC73EhQq5D2ysuWRbJrxYH6u71g/UPL8asLsQ6/s71vbKvBuoJzyw9qy7EQiIuhTXhjzb32O7W9UgvC6CoLyB1T48xgTavJCUjLs6I1E8O1b0OYkoITxOsi48mzSsvOw6DTqYTCQ8H8NSu7BbYr0cjx69SMiEPJpNtTvIoLW6lhV+PCuaGD3NJJm8acYAvV0IxLyOEbo8KjFgvByPnryKW8S7LufVu1qFcTsEMcK8WAaiO+BKvjwmL768GD7euk5mgryv3JK8EdJyPG99Bzy1K/K6t8dNvF2KBbsCSTq84jJGu43eljyh67I7yjyRu2nGADy8S7E562yfvLb53zz5qSu8Dp4+ut9jRzzsOo28sFtivJ5o4DoSOyu8nLP7PC+1wzuK9g48k5UdPX9SbD3y8ZO89cASvZ01PbvFbAG8xJ6TvJf89LpNSfa6HV0Muxraubsr/807v86DPMJnbTzm6Du8qQyDvBqOjbzHN328lxkBPXIv+rv8eKo8IJFAu474MD1mdcA8r6b9O3weOLxGLKk8+HYIPT5bCDydmvI7WrsGvGEKZrzhGCw8p9XcPCKSUTzgMTU8wZl/uz3yzzvjGT07DISkPNb2SrxWBZG7AJTVuzwkYryKdE28Tf3JO57qoTsed6Y8Us3Zu4uOZzyXGQE9TUl2OxNuTrpOyze7BMwMO2gRHLw+2ca7a15ZOpf89DtWHpo8Vh6aO1RptTw6vhs8fThSPIx1XrwHtJS8Fj3NvDy/rDxUzuq8ivYOvXk2MDyCvLU8q3JJu9oR9ru6SiC8JHrZOyFfLrzOo2i6mEykusM1W7wBFhe95bWYvFaDzzvMVqs8W+6pPG99B7zUWm88ozhwPFs6VjzCAri67iKVPKaiOTvG69C8rvWbPOiEl7vxiFu8GnUEvVq7hrtskXy8PCRiPG6vGbzzcGM9+neZPNr4bLx/OWM8Us3ZO5ZknDzU3DA8ZyolPSzNOzwjxXS8b+I8PMJn7TllKRQ78rv+vOUzV7ugHcU7+txOu6sNFD2ncCe84X3hPBG56TxgWYQ74f8iPL/OAzu74ni8nOkQugcAQT2aTbU8gry1vBuop7e0+E68MbbUO8M1W736dxm8xIWKuNUoXToyH406A3xdvHJljzxz/Wc8WZ56PJKuJjsVVta7rvWbvBdX5zzp0EO8c+ReO8Bm3LyovFO8\n",
      "Usage(prompt_tokens=6, total_tokens=6)\n"
     ]
    }
   ],
   "source": [
    "from gen_ai_hub.proxy.native.openai import embeddings\n",
    "\n",
    "_text=\"Every decoding is another encoding.\"\n",
    "_model='text-embedding-ada-002'\n",
    "\n",
    "response = embeddings.create(\n",
    "    input=_text,\n",
    "    model_name=_model,\n",
    "    encoding_format='base64'\n",
    ")\n",
    "\n",
    "print(response.data[0].embedding)\n",
    "print(response.usage)"
   ]
  }
 ],
 "metadata": {
  "kernelspec": {
   "display_name": ".venv",
   "language": "python",
   "name": "python3"
  },
  "language_info": {
   "codemirror_mode": {
    "name": "ipython",
    "version": 3
   },
   "file_extension": ".py",
   "mimetype": "text/x-python",
   "name": "python",
   "nbconvert_exporter": "python",
   "pygments_lexer": "ipython3",
   "version": "3.11.2"
  }
 },
 "nbformat": 4,
 "nbformat_minor": 2
}
